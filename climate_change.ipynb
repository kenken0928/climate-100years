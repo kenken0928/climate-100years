{
 "cells": [
  {
   "cell_type": "code",
   "execution_count": null,
   "metadata": {},
   "outputs": [],
   "source": [
    "from matplotlib.dates import MonthLocator, num2date\n",
    "from matplotlib.ticker import FuncFormatter\n",
    "import pandas as pd\n",
    "from fbprophet import Prophet\n",
    "import matplotlib.pyplot as plt\n",
    "import japanize_matplotlib\n",
    "import streamlit as st"
   ]
  },
  {
   "cell_type": "code",
   "execution_count": null,
   "metadata": {},
   "outputs": [],
   "source": [
    "st.markdown('''\n",
    "# 気象庁の観測データの整理\n",
    "\n",
    "国土交通省・気象庁が1876年より毎月観測しているデータを整理\n",
    "出所：国土交通省・気象庁（Japan Meteorological Agency）https://www.jma.go.jp/jma/index.html\n",
    "\n",
    "備考\n",
    "- 日平均気温データ および 日最高気温データについて、DataFrameをチェックボックスで出力\n",
    "- 上記データを折れ線グラフで出力\n",
    "''')\n",
    "st.text('                            ')\n",
    "st.text('                            ')\n",
    "st.text('----------------------------------------------------')"
   ]
  },
  {
   "cell_type": "code",
   "execution_count": null,
   "metadata": {},
   "outputs": [],
   "source": [
    "# 日平均気温データ(Excel)の読み込み\n",
    "df_a1= pd.read_excel('data_a1.xlsx')\n",
    "\n",
    "# 'Year'をindexに設定\n",
    "df_a = df_a1.set_index('Year')"
   ]
  },
  {
   "cell_type": "code",
   "execution_count": null,
   "metadata": {},
   "outputs": [],
   "source": [
    "st.markdown('''\n",
    "< 日平均気温データ・データフレーム >\n",
    "''')\n",
    "\n",
    "# dfのチェックボックス\n",
    "if st.checkbox('DataFrame of Daily Average Temperature'):\n",
    "    st.dataframe(df_a)\n",
    "st.text('                            ')\n",
    "st.text('                            ')\n",
    "st.text('----------------------------------------------------')"
   ]
  },
  {
   "cell_type": "code",
   "execution_count": null,
   "metadata": {},
   "outputs": [],
   "source": [
    "st.markdown('''\n",
    "< 日平均気温データ・グラフ >\n",
    "''')\n",
    "\n",
    "selected_targets_a = st.multiselect('Month - average', df_a.columns)\n",
    "view_a = df_a[selected_targets_a]\n",
    "st.line_chart(view_a)\n",
    "st.text('                            ')\n",
    "st.text('                            ')\n",
    "st.text('----------------------------------------------------')"
   ]
  },
  {
   "cell_type": "code",
   "execution_count": null,
   "metadata": {},
   "outputs": [],
   "source": [
    "# 日最高気温データ(Excel)の読み込み\n",
    "df_h1= pd.read_excel('data_h.xlsx')\n",
    "\n",
    "# 'Year'をindexに設定\n",
    "df_h = df_h1.set_index('Year')"
   ]
  },
  {
   "cell_type": "code",
   "execution_count": null,
   "metadata": {},
   "outputs": [],
   "source": [
    "st.markdown('''\n",
    "< 日最高気温データ・データフレーム >\n",
    "''')\n",
    "# dfのチェックボックス\n",
    "if st.checkbox('DataFrame of Daily Maximum Temperature'):\n",
    "    st.dataframe(df_h)\n",
    "st.text('                            ')\n",
    "st.text('                            ')\n",
    "st.text('----------------------------------------------------')"
   ]
  },
  {
   "cell_type": "code",
   "execution_count": null,
   "metadata": {},
   "outputs": [],
   "source": [
    "st.markdown('''\n",
    "< 日最高気温データ・グラフ >\n",
    "''')\n",
    "selected_targets_h = st.multiselect('Month - maximum', df_h.columns)\n",
    "view_h = df_h[selected_targets_h]\n",
    "st.line_chart(view_h)\n",
    "st.text('                            ')\n",
    "st.text('                            ')\n",
    "st.text('----------------------------------------------------')"
   ]
  },
  {
   "cell_type": "code",
   "execution_count": null,
   "metadata": {},
   "outputs": [],
   "source": [
    "st.text('                            ')\n",
    "st.markdown('''\n",
    "## 1月の日平均気温・100年後の予測\n",
    "\n",
    "- 時系列解析ライブラリ Prophetを使用\n",
    "- 気象庁のデータを使用\n",
    "\n",
    "''')"
   ]
  },
  {
   "cell_type": "code",
   "execution_count": null,
   "metadata": {},
   "outputs": [],
   "source": [
    "import altair as alt\n",
    "\n",
    "# 学習データ用意\n",
    "# 日付のデータは、暫定的に各年の1月1日に設定\n",
    "\n",
    "df= pd.read_excel('data_a1.xlsx')\n",
    "data = pd.DataFrame()\n",
    "data['y'] = df['Jan.']\n",
    "data['ds'] = df[['Year']].apply(lambda x: '{}'.format(x[0]) , axis=1)+ '-01-01'\n",
    "\n",
    "# モデル構築 with 学習データ\n",
    "model = Prophet(daily_seasonality=True, weekly_seasonality=True, yearly_seasonality=True)\n",
    "model.fit(data)\n",
    "\n",
    "# 100年後の予測\n",
    "future_data = model.make_future_dataframe(periods=100, freq='y')\n",
    "forecast_data = model.predict(future_data)\n",
    "\n",
    "a = model.plot(forecast_data)\n",
    "st.pyplot(a)"
   ]
  },
  {
   "cell_type": "code",
   "execution_count": null,
   "metadata": {},
   "outputs": [],
   "source": [
    "st.text('----------------------------------------------------')\n",
    "st.text('                            ')\n",
    "st.markdown('''\n",
    "## 結果\n",
    "\n",
    "- 1875年では、1月・日平均(24時間)気温が2℃程。\n",
    "- 2020年近辺では、6℃程であり、約4℃ほど上昇。\n",
    "\n",
    "- 約100年後の2115年には、9℃程になり、日本では1月は冬がなくなる。。。\n",
    "- 今の内に、1月は雪合戦をしておきましょう。\n",
    "\n",
    "''')"
   ]
  },
  {
   "cell_type": "code",
   "execution_count": null,
   "metadata": {},
   "outputs": [],
   "source": [
    "st.text('----------------------------------------------------')\n",
    "st.text('                            ')\n",
    "st.markdown('''\n",
    "## 課題\n",
    "\n",
    "- Prophetの可視化で、@st.chacheができず、毎回、予測計算をしてしまい、読み込み時間がかかる。\n",
    "- 月単位の予測データの可視化が未完成\n",
    "\n",
    "''')"
   ]
  },
  {
   "cell_type": "code",
   "execution_count": null,
   "metadata": {},
   "outputs": [],
   "source": []
  }
 ],
 "metadata": {
  "kernelspec": {
   "display_name": "Python 3",
   "language": "python",
   "name": "python3"
  },
  "language_info": {
   "codemirror_mode": {
    "name": "ipython",
    "version": 3
   },
   "file_extension": ".py",
   "mimetype": "text/x-python",
   "name": "python",
   "nbconvert_exporter": "python",
   "pygments_lexer": "ipython3",
   "version": "3.8.5"
  }
 },
 "nbformat": 4,
 "nbformat_minor": 4
}
